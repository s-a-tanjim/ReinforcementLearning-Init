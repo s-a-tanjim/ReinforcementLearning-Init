{
 "cells": [
  {
   "cell_type": "markdown",
   "id": "be2d6d85-49a6-4cac-a9c4-a43b434921ab",
   "metadata": {},
   "source": [
    "# Q Learning\n",
    "QLearning is a value-based model-free approach for supplying information to intimate which action an agent should perform. It revolves around the notion of updating Q values which shows the value of doing action A in state S. Value update rule is the main aspect of the Q-learning algorithm.\n",
    "![Q-Learning-Steps](img/q-learning-steps.png)\n",
    "\n",
    "## Pseudocode\n",
    "![Q-Learning Pseudocode](img/q-learning-pseudocode.png)\n",
    "\n",
    "# Environment\n",
    "### Action Space\n",
    "    There are 3 discrete deterministic actions:\n",
    "    | Num | Observation             | Value | Unit         |\n",
    "    |-----|-------------------------|-------|--------------|\n",
    "    | 0   | Accelerate to the left  | Inf   | position (m) |\n",
    "    | 1   | Don't accelerate        | Inf   | position (m) |\n",
    "    | 2   | Accelerate to the right | Inf   | position (m) |\n",
    "    \n",
    "### Observation Space\n",
    "    The observation is a `ndarray` with shape `(2,)` where the elements correspond to the following:\n",
    "    | Num | Observation                          | Min  | Max | Unit         |\n",
    "    |-----|--------------------------------------|------|-----|--------------|\n",
    "    | 0   | position of the car along the x-axis | -Inf | Inf | position (m) |\n",
    "    | 1   | velocity of the car                  | -Inf | Inf | position (m) |\n",
    "    \n",
    "Observation Space = Box ([Position_Min_Val Velocity_Min_Val], [Position_Max_Val Velocity_Max_Val], float32)"
   ]
  },
  {
   "cell_type": "markdown",
   "id": "c7978c03-9a69-49df-8eaa-61143a0ca179",
   "metadata": {},
   "source": [
    "## Import library"
   ]
  },
  {
   "cell_type": "code",
   "execution_count": 1,
   "id": "7e62e586-5ef6-4814-bd6e-c13b14aca98f",
   "metadata": {},
   "outputs": [],
   "source": [
    "import gym\n",
    "import numpy as np"
   ]
  },
  {
   "cell_type": "markdown",
   "id": "06c3a228-fedf-4df8-afdb-25513a3a32b5",
   "metadata": {},
   "source": [
    "## Initialize OpenAI gym environment\n",
    "For more info about environment: [link](https://github.com/openai/gym/blob/master/gym/envs/classic_control/mountain_car.py)"
   ]
  },
  {
   "cell_type": "code",
   "execution_count": 2,
   "id": "6e68c877-090a-481d-824a-70b110ed05cf",
   "metadata": {},
   "outputs": [
    {
     "data": {
      "text/plain": [
       "array([-0.48557863,  0.        ], dtype=float32)"
      ]
     },
     "execution_count": 2,
     "metadata": {},
     "output_type": "execute_result"
    }
   ],
   "source": [
    "env = gym.make('MountainCar-v0')\n",
    "env.reset()"
   ]
  },
  {
   "cell_type": "code",
   "execution_count": 3,
   "id": "7e21de4e-23fc-41b1-97d8-fae36fa051ec",
   "metadata": {
    "tags": []
   },
   "outputs": [
    {
     "name": "stdout",
     "output_type": "stream",
     "text": [
      "Box([-1.2  -0.07], [0.6  0.07], (2,), float32)\n"
     ]
    }
   ],
   "source": [
    "print(env.observation_space)"
   ]
  },
  {
   "cell_type": "markdown",
   "id": "fd50bc1c-6b39-4a53-850a-cb34120497d7",
   "metadata": {},
   "source": [
    "```\n",
    "low = np.array([self.min_position, -self.max_speed], dtype=np.float32)\n",
    "high = np.array([self.max_position, self.max_speed], dtype=np.float32)\n",
    "```"
   ]
  },
  {
   "cell_type": "markdown",
   "id": "1bcc908e-6619-45cf-a5ad-d0ce494b7540",
   "metadata": {},
   "source": [
    "## Hyper parameter"
   ]
  },
  {
   "cell_type": "code",
   "execution_count": 4,
   "id": "716168cb-ea47-4ef1-900d-06be0329da38",
   "metadata": {
    "tags": []
   },
   "outputs": [],
   "source": [
    "LEARNING_RATE = 0.1\n",
    "\n",
    "DISCOUNT = 0.95\n",
    "EPISODES = 25000\n",
    "SHOW_EVERY = 3000\n",
    "\n",
    "DISCRETE_OS_SIZE = [20, 20]\n",
    "discrete_os_win_size = (env.observation_space.high - env.observation_space.low)/DISCRETE_OS_SIZE\n",
    "\n",
    "q_table = np.random.uniform(low=-2, high=0, size=(DISCRETE_OS_SIZE + [env.action_space.n]))\n",
    "\n",
    "# print(discrete_os_win_size)\n",
    "# print(q_table.shape)\n",
    "# print(q_table)"
   ]
  },
  {
   "cell_type": "markdown",
   "id": "58b639bb-47fa-4dec-ae24-aa7523e81373",
   "metadata": {},
   "source": [
    "## Exploration settings"
   ]
  },
  {
   "cell_type": "code",
   "execution_count": 5,
   "id": "c629cfbe-1674-4193-bfde-da8fba84cee3",
   "metadata": {},
   "outputs": [],
   "source": [
    "epsilon = 0.5  # not a constant, qoing to be decayed\n",
    "START_EPSILON_DECAYING = 1\n",
    "END_EPSILON_DECAYING = EPISODES//2\n",
    "epsilon_decay_value = epsilon/(END_EPSILON_DECAYING - START_EPSILON_DECAYING)"
   ]
  },
  {
   "cell_type": "code",
   "execution_count": 6,
   "id": "5337e4f7-39b3-4c9b-b090-68e76974cc05",
   "metadata": {},
   "outputs": [],
   "source": [
    "'''\n",
    "Converts continious state into discrete observation space\n",
    "'''\n",
    "def get_discrete_state(state):\n",
    "    discrete_state = (state - env.observation_space.low)/discrete_os_win_size\n",
    "    # print(state)\n",
    "    # print(env.observation_space.low)\n",
    "    # print(discrete_state)\n",
    "    return tuple(discrete_state.astype(int))  # we use this tuple to look up the 3 Q values for the available actions in the q-table\n"
   ]
  },
  {
   "cell_type": "code",
   "execution_count": 7,
   "id": "fb9b5f61-b6b9-4933-bb78-0047c6233fda",
   "metadata": {},
   "outputs": [
    {
     "data": {
      "text/plain": [
       "(7, 10)"
      ]
     },
     "execution_count": 7,
     "metadata": {},
     "output_type": "execute_result"
    }
   ],
   "source": [
    "get_discrete_state(env.reset())"
   ]
  },
  {
   "cell_type": "markdown",
   "id": "c52438e4-828f-4475-b22b-409bb0411ab9",
   "metadata": {},
   "source": [
    "# Main Loop"
   ]
  },
  {
   "cell_type": "code",
   "execution_count": 8,
   "id": "acc27b52-13f8-43ae-8f36-245aaf49155e",
   "metadata": {},
   "outputs": [
    {
     "name": "stdout",
     "output_type": "stream",
     "text": [
      "0\n",
      "3000\n",
      "6000\n",
      "9000\n",
      "12000\n",
      "15000\n",
      "18000\n",
      "21000\n",
      "24000\n"
     ]
    }
   ],
   "source": [
    "for episode in range(EPISODES):\n",
    "    discrete_state = get_discrete_state(env.reset())\n",
    "    done = False\n",
    "\n",
    "    if episode % SHOW_EVERY == 0:\n",
    "        render = True\n",
    "        print(episode)\n",
    "    else:\n",
    "        render = False\n",
    "\n",
    "    while not done:\n",
    "\n",
    "        # action = np.argmax(q_table[discrete_state])\n",
    "        if np.random.random() > epsilon:\n",
    "            # Get action from Q table\n",
    "            action = np.argmax(q_table[discrete_state])\n",
    "        else:\n",
    "            # Get random action\n",
    "            action = np.random.randint(0, env.action_space.n)\n",
    "\n",
    "\n",
    "        new_state, reward, done, _ = env.step(action)\n",
    "\n",
    "        new_discrete_state = get_discrete_state(new_state)\n",
    "\n",
    "        if episode % SHOW_EVERY == 0:\n",
    "            env.render()\n",
    "\n",
    "        # If simulation did not end yet after last step - update Q table\n",
    "        if not done:\n",
    "\n",
    "            # Maximum possible Q value in next step (for new state)\n",
    "            max_future_q = np.max(q_table[new_discrete_state])\n",
    "\n",
    "            # Current Q value (for current state and performed action)\n",
    "            current_q = q_table[discrete_state + (action,)]\n",
    "\n",
    "            # And here's our equation for a new Q value for current state and action\n",
    "            new_q = (1 - LEARNING_RATE) * current_q + LEARNING_RATE * (reward + DISCOUNT * max_future_q)\n",
    "\n",
    "            # Update Q table with new Q value\n",
    "            q_table[discrete_state + (action,)] = new_q\n",
    "\n",
    "\n",
    "        # Simulation ended (for any reson) - if goal position is achived - update Q value with reward directly\n",
    "        elif new_state[0] >= env.goal_position:\n",
    "            #q_table[discrete_state + (action,)] = reward\n",
    "            q_table[discrete_state + (action,)] = 0\n",
    "\n",
    "        discrete_state = new_discrete_state\n",
    "\n",
    "    # Decaying is being done every episode if episode number is within decaying range\n",
    "    if END_EPSILON_DECAYING >= episode >= START_EPSILON_DECAYING:\n",
    "        epsilon -= epsilon_decay_value\n",
    "\n",
    "env.close()"
   ]
  },
  {
   "cell_type": "code",
   "execution_count": null,
   "id": "a04d0fdb-cf3a-40b8-b200-637adcd6829c",
   "metadata": {},
   "outputs": [],
   "source": []
  }
 ],
 "metadata": {
  "kernelspec": {
   "display_name": "Python 3 (ipykernel)",
   "language": "python",
   "name": "python3"
  },
  "language_info": {
   "codemirror_mode": {
    "name": "ipython",
    "version": 3
   },
   "file_extension": ".py",
   "mimetype": "text/x-python",
   "name": "python",
   "nbconvert_exporter": "python",
   "pygments_lexer": "ipython3",
   "version": "3.8.10"
  }
 },
 "nbformat": 4,
 "nbformat_minor": 5
}
