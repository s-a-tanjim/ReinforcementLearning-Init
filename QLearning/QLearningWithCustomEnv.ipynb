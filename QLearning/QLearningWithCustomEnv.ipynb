{
 "cells": [
  {
   "cell_type": "markdown",
   "id": "af89636a-7e24-49bb-a323-e593649b3a81",
   "metadata": {
    "tags": []
   },
   "source": [
    "### Import Library"
   ]
  },
  {
   "cell_type": "code",
   "execution_count": 1,
   "id": "e33aecfb-7509-4cc6-b890-ada9f217bcc2",
   "metadata": {},
   "outputs": [],
   "source": [
    "import numpy as np\n",
    "from PIL import Image\n",
    "import cv2\n",
    "import matplotlib.pyplot as plt\n",
    "import pickle\n",
    "from matplotlib import style\n",
    "import time\n",
    "\n",
    "style.use(\"ggplot\")"
   ]
  },
  {
   "cell_type": "markdown",
   "id": "c57551ba-5da3-485d-bbf5-f809bded01dd",
   "metadata": {
    "tags": []
   },
   "source": [
    "### Declare Global Variables"
   ]
  },
  {
   "cell_type": "code",
   "execution_count": 2,
   "id": "f0a4840b-5b6e-4303-8eaf-36f98657601b",
   "metadata": {},
   "outputs": [],
   "source": [
    "SIZE = 10 # Metrics Size\n",
    "\n",
    "HM_EPISODES = 100000\n",
    "MOVE_PENALTY = 1\n",
    "ENEMY_PENALTY = 300\n",
    "FOOD_REWARD = 25\n",
    "epsilon = 0.9\n",
    "EPS_DECAY = 0.9998  # Every episode will be epsilon*EPS_DECAY\n",
    "SHOW_EVERY = 3000  # how often to play through env visually.\n",
    "\n",
    "# start_q_table = \"models/qtable-1658485591.pickle\"\n",
    "start_q_table = None # None or Filename\n",
    "\n",
    "LEARNING_RATE = 0.1\n",
    "DISCOUNT = 0.95\n",
    "\n",
    "PLAYER_N = 1  # player key in dictionary\n",
    "FOOD_N = 2  # food key in dictionary\n",
    "ENEMY_N = 3  # enemy key in dictionary\n",
    "\n",
    "# the dictionary of RGB value\n",
    "d = {1: (255, 175, 0),\n",
    "     2: (0, 255, 0),\n",
    "     3: (0, 0, 255)}\n"
   ]
  },
  {
   "cell_type": "markdown",
   "id": "3362191b-359a-4b7b-abe8-6bb6ceb13f6a",
   "metadata": {
    "tags": []
   },
   "source": [
    "### Define Object's Class"
   ]
  },
  {
   "cell_type": "code",
   "execution_count": 3,
   "id": "e9b8eef1-3f45-4811-9dd1-2a89897e43e1",
   "metadata": {},
   "outputs": [],
   "source": [
    "class Blob:\n",
    "    def __init__(self):\n",
    "        self.x = np.random.randint(0, SIZE)\n",
    "        self.y = np.random.randint(0, SIZE)\n",
    "\n",
    "    def __str__(self):\n",
    "        return f\"{self.x}, {self.y}\"\n",
    "\n",
    "    def __sub__(self, other):\n",
    "        return (self.x-other.x, self.y-other.y)\n",
    "    \n",
    "    def reset(self):\n",
    "        self.x = np.random.randint(0, SIZE)\n",
    "        self.y = np.random.randint(0, SIZE)\n",
    "\n",
    "    def action(self, choice):\n",
    "        '''\n",
    "        Gives us 4 total movement options. (0,1,2,3)\n",
    "        '''\n",
    "        if choice == 0:\n",
    "            self.move(x=1, y=1)\n",
    "        elif choice == 1:\n",
    "            self.move(x=-1, y=-1)\n",
    "        elif choice == 2:\n",
    "            self.move(x=-1, y=1)\n",
    "        elif choice == 3:\n",
    "            self.move(x=1, y=-1)\n",
    "\n",
    "    def move(self, x=False, y=False):\n",
    "        # If no value for x, move randomly\n",
    "        if not x:\n",
    "            self.x += np.random.randint(-1, 2)\n",
    "        else:\n",
    "            self.x += x\n",
    "        # If no value for y, move randomly\n",
    "        if not y:\n",
    "            self.y += np.random.randint(-1, 2)\n",
    "        else:\n",
    "            self.y += y\n",
    "\n",
    "        # If we are out of bounds, fix!\n",
    "        if self.x < 0:\n",
    "            self.x = 0\n",
    "        elif self.x > SIZE-1:\n",
    "            self.x = SIZE-1\n",
    "        if self.y < 0:\n",
    "            self.y = 0\n",
    "        elif self.y > SIZE-1:\n",
    "            self.y = SIZE-1"
   ]
  },
  {
   "cell_type": "markdown",
   "id": "254a434d-ddef-4b81-90f1-68a0621ffee4",
   "metadata": {
    "tags": []
   },
   "source": [
    "## Game Environment"
   ]
  },
  {
   "cell_type": "code",
   "execution_count": 4,
   "id": "153d4469-abc0-46a5-85c0-ac33f8e5f50c",
   "metadata": {},
   "outputs": [],
   "source": [
    "class GameEnv:\n",
    "    def __init__(self):\n",
    "        self.player = Blob()\n",
    "        self.food = Blob()\n",
    "        self.enemy = Blob()\n",
    "        \n",
    "    def observation(self):\n",
    "        return (self.player-self.food, self.player-self.enemy)\n",
    "    \n",
    "    def step(self,action):\n",
    "        self.reward = 0\n",
    "        self.player.action(action)\n",
    "        \n",
    "        #### MAYBE ###\n",
    "        #enemy.move()\n",
    "        #food.move()\n",
    "        ##############\n",
    "        \n",
    "        if self.player.x == self.enemy.x and self.player.y == self.enemy.y:\n",
    "            self.reward = -ENEMY_PENALTY\n",
    "        elif self.player.x == self.food.x and self.player.y == self.food.y:\n",
    "            self.reward = FOOD_REWARD\n",
    "        else:\n",
    "            self.reward = -MOVE_PENALTY\n",
    "        \n",
    "        ## NOW WE KNOW THE REWARD, LET'S CALC YO\n",
    "        # first we need to obs immediately after the move.\n",
    "        new_state = self.observation()\n",
    "        \n",
    "        if self.reward == FOOD_REWARD or self.reward == -ENEMY_PENALTY:\n",
    "            done = True\n",
    "        else:\n",
    "            done = False\n",
    "        return new_state, self.reward, done, \"\"\n",
    "    \n",
    "    def render(self):\n",
    "        env = np.zeros((SIZE, SIZE, 3), dtype=np.uint8)  # starts an rbg of our size\n",
    "        env[self.food.x][self.food.y] = d[FOOD_N]  # sets the food location tile to green color\n",
    "        env[self.player.x][self.player.y] = d[PLAYER_N]  # sets the player tile to blue\n",
    "        env[self.enemy.x][self.enemy.y] = d[ENEMY_N]  # sets the enemy location to red\n",
    "        img = Image.fromarray(env, 'RGB')  # reading to rgb. Apparently. Even tho color definitions are bgr. ???\n",
    "        img = img.resize((300, 300))  # resizing so we can see our agent in all its glory.\n",
    "        cv2.imshow(\"image\", np.array(img))  # show it!\n",
    "\n",
    "    def reset(self):\n",
    "        self.player.reset()\n",
    "        self.food.reset()\n",
    "        self.enemy.reset()\n",
    "        \n",
    "    def close(self):\n",
    "        cv2.destroyWindow(\"image\")"
   ]
  },
  {
   "cell_type": "markdown",
   "id": "29cf251c-d009-4682-9899-c6601986421f",
   "metadata": {
    "tags": []
   },
   "source": [
    "## Construct Q Table"
   ]
  },
  {
   "cell_type": "code",
   "execution_count": 5,
   "id": "561abe35-5812-45e8-b7fe-b94a24e2b9f3",
   "metadata": {},
   "outputs": [],
   "source": [
    "if start_q_table is None:\n",
    "    # initialize the q-table#\n",
    "    q_table = {}\n",
    "    for i in range(-SIZE+1, SIZE):\n",
    "        for ii in range(-SIZE+1, SIZE):\n",
    "            for iii in range(-SIZE+1, SIZE):\n",
    "                    for iiii in range(-SIZE+1, SIZE):\n",
    "                        q_table[((i, ii), (iii, iiii))] = [np.random.uniform(-5, 0) for i in range(4)]\n",
    "\n",
    "else:\n",
    "    with open(start_q_table, \"rb\") as f:\n",
    "        q_table = pickle.load(f)"
   ]
  },
  {
   "cell_type": "markdown",
   "id": "9a0e0e5f-4830-4587-a57e-2bd949e2f5a5",
   "metadata": {
    "tags": []
   },
   "source": [
    "## Train from Environment"
   ]
  },
  {
   "cell_type": "code",
   "execution_count": 6,
   "id": "b593e061-cb20-41e7-a78f-9b2130c11405",
   "metadata": {
    "tags": []
   },
   "outputs": [
    {
     "name": "stdout",
     "output_type": "stream",
     "text": [
      "on #0, epsilon is 0.9\n",
      "3000 ep mean: nan\n"
     ]
    },
    {
     "name": "stderr",
     "output_type": "stream",
     "text": [
      "/home/tanjim/.local/lib/python3.8/site-packages/numpy/core/fromnumeric.py:3474: RuntimeWarning: Mean of empty slice.\n",
      "  return _methods._mean(a, axis=axis, dtype=dtype,\n",
      "/home/tanjim/.local/lib/python3.8/site-packages/numpy/core/_methods.py:189: RuntimeWarning: invalid value encountered in double_scalars\n",
      "  ret = ret.dtype.type(ret / rcount)\n"
     ]
    },
    {
     "name": "stdout",
     "output_type": "stream",
     "text": [
      "on #3000, epsilon is 0.49390083359356435\n",
      "3000 ep mean: -170.876\n",
      "on #6000, epsilon is 0.27104225936046566\n",
      "3000 ep mean: -109.12133333333334\n",
      "on #9000, epsilon is 0.14874221981913022\n",
      "3000 ep mean: -81.92233333333333\n",
      "on #12000, epsilon is 0.08162656262136181\n",
      "3000 ep mean: -69.326\n",
      "on #15000, epsilon is 0.044794919246742226\n",
      "3000 ep mean: -56.865\n",
      "on #18000, epsilon is 0.024582497729691496\n",
      "3000 ep mean: -53.55\n",
      "on #21000, epsilon is 0.01349035124500733\n",
      "3000 ep mean: -38.967\n",
      "on #24000, epsilon is 0.0074032174726434705\n",
      "3000 ep mean: -37.117\n",
      "on #27000, epsilon is 0.004062728090014504\n",
      "3000 ep mean: -31.045333333333332\n",
      "on #30000, epsilon is 0.0022295386559135037\n",
      "3000 ep mean: -27.655333333333335\n",
      "on #33000, epsilon is 0.0012235233340941692\n",
      "3000 ep mean: -22.74\n"
     ]
    },
    {
     "ename": "KeyboardInterrupt",
     "evalue": "",
     "output_type": "error",
     "traceback": [
      "\u001b[0;31m---------------------------------------------------------------------------\u001b[0m",
      "\u001b[0;31mKeyboardInterrupt\u001b[0m                         Traceback (most recent call last)",
      "Input \u001b[0;32mIn [6]\u001b[0m, in \u001b[0;36m<cell line: 7>\u001b[0;34m()\u001b[0m\n\u001b[1;32m     42\u001b[0m game_env\u001b[38;5;241m.\u001b[39mrender()\n\u001b[1;32m     43\u001b[0m \u001b[38;5;28;01mif\u001b[39;00m done:  \u001b[38;5;66;03m# crummy code to hang at the end if we reach abrupt end for good reasons or not.\u001b[39;00m\n\u001b[0;32m---> 44\u001b[0m     \u001b[38;5;28;01mif\u001b[39;00m \u001b[43mcv2\u001b[49m\u001b[38;5;241;43m.\u001b[39;49m\u001b[43mwaitKey\u001b[49m\u001b[43m(\u001b[49m\u001b[38;5;241;43m500\u001b[39;49m\u001b[43m)\u001b[49m \u001b[38;5;241m==\u001b[39m \u001b[38;5;28mord\u001b[39m(\u001b[38;5;124m'\u001b[39m\u001b[38;5;124mq\u001b[39m\u001b[38;5;124m'\u001b[39m):\n\u001b[1;32m     45\u001b[0m         \u001b[38;5;28;01mbreak\u001b[39;00m\n\u001b[1;32m     46\u001b[0m \u001b[38;5;28;01melse\u001b[39;00m:\n",
      "\u001b[0;31mKeyboardInterrupt\u001b[0m: "
     ]
    }
   ],
   "source": [
    "# can look up from Q-table with: print(q_table[((-9, -2), (3, 9))]) for example\n",
    "\n",
    "episode_rewards = []\n",
    "\n",
    "game_env = GameEnv()\n",
    "\n",
    "for episode in range(HM_EPISODES):\n",
    "    game_env.reset()\n",
    "    if episode % SHOW_EVERY == 0:\n",
    "        print(f\"on #{episode}, epsilon is {epsilon}\")\n",
    "        print(f\"{SHOW_EVERY} ep mean: {np.mean(episode_rewards[-SHOW_EVERY:])}\")\n",
    "        show = True\n",
    "    else:\n",
    "        show = False\n",
    "\n",
    "    episode_reward = 0\n",
    "    done = False\n",
    "    for i in range(200):\n",
    "        obs = game_env.observation()\n",
    "        #print(obs)\n",
    "        if np.random.random() > epsilon:\n",
    "            # GET THE ACTION\n",
    "            action = np.argmax(q_table[obs])\n",
    "        else:\n",
    "            action = np.random.randint(0, 4)\n",
    "        # Take the action!\n",
    "        new_obs, reward, done, _ = game_env.step(action)\n",
    "\n",
    "        \n",
    "        max_future_q = np.max(q_table[new_obs])\n",
    "        current_q = q_table[obs][action]\n",
    "\n",
    "        if reward == FOOD_REWARD:\n",
    "            new_q = FOOD_REWARD\n",
    "        else:\n",
    "            new_q = (1 - LEARNING_RATE) * current_q + LEARNING_RATE * (reward + DISCOUNT * max_future_q)\n",
    "        q_table[obs][action] = new_q\n",
    "        \n",
    "        episode_reward += reward\n",
    "        \n",
    "        if show:\n",
    "            game_env.render()\n",
    "            if done:  # crummy code to hang at the end if we reach abrupt end for good reasons or not.\n",
    "                cv2.waitKey(500)\n",
    "            else:\n",
    "                cv2.waitKey(1)\n",
    "\n",
    "        if done:\n",
    "            break\n",
    "\n",
    "    #print(episode_reward)\n",
    "    episode_rewards.append(episode_reward)\n",
    "    epsilon *= EPS_DECAY\n",
    "\n",
    "game_env.close()"
   ]
  },
  {
   "cell_type": "markdown",
   "id": "0bf72467-2fcd-42e0-b965-90e149e2d15a",
   "metadata": {
    "tags": []
   },
   "source": [
    "## Plot reward graph & Store model(QTable)"
   ]
  },
  {
   "cell_type": "code",
   "execution_count": 7,
   "id": "56f74318-2c9a-4d4d-91b4-70f9a8ea3213",
   "metadata": {
    "tags": []
   },
   "outputs": [
    {
     "data": {
      "image/png": "[encoded data removed]",
      "text/plain": [
       "<Figure size 432x288 with 1 Axes>"
      ]
     },
     "metadata": {
      "needs_background": "light"
     },
     "output_type": "display_data"
    }
   ],
   "source": [
    "moving_avg = np.convolve(episode_rewards, np.ones((SHOW_EVERY,))/SHOW_EVERY, mode='valid')\n",
    "\n",
    "\n",
    "plt.plot([i for i in range(len(moving_avg))], moving_avg)\n",
    "plt.ylabel(f\"Reward {SHOW_EVERY}ma\")\n",
    "plt.xlabel(\"episode #\")\n",
    "plt.show()\n",
    "\n",
    "with open(f\"qtable-{int(time.time())}.pickle\", \"wb\") as f:\n",
    "    pickle.dump(q_table, f)"
   ]
  },
  {
   "cell_type": "markdown",
   "id": "e4e9c5bb-07a6-49c7-9d7d-08f44c7f92b4",
   "metadata": {
    "tags": []
   },
   "source": [
    "## Play with stored QTable(Model)"
   ]
  },
  {
   "cell_type": "code",
   "execution_count": 5,
   "id": "a46cb547-48cf-4d43-9f95-4616e4d96820",
   "metadata": {
    "collapsed": true,
    "jupyter": {
     "outputs_hidden": true
    },
    "tags": []
   },
   "outputs": [
    {
     "name": "stdout",
     "output_type": "stream",
     "text": [
      ".................\n",
      "Reward: 9\n",
      ".................\n",
      "Reward: -63\n",
      ".................\n",
      "Reward: 13\n",
      ".................\n",
      "Reward: -8\n",
      ".................\n",
      "Reward: 3\n",
      ".................\n",
      "Reward: -71\n",
      ".................\n",
      "Reward: 11\n",
      ".................\n",
      "Reward: -26\n",
      ".................\n",
      "Reward: 10\n",
      ".................\n",
      "Reward: 13\n",
      ".................\n",
      "Reward: 21\n",
      ".................\n",
      "Reward: 6\n",
      ".................\n",
      "Reward: -68\n",
      ".................\n",
      "Reward: 17\n",
      ".................\n",
      "Reward: 9\n",
      ".................\n",
      "Reward: 11\n",
      ".................\n",
      "Reward: 23\n",
      ".................\n",
      "Reward: 1\n",
      ".................\n",
      "Reward: 19\n",
      ".................\n",
      "Reward: 19\n",
      ".................\n",
      "Reward: -22\n",
      ".................\n",
      "Reward: 18\n",
      ".................\n",
      "Reward: 19\n",
      ".................\n",
      "Reward: 11\n",
      ".................\n",
      "Reward: 23\n",
      ".................\n",
      "Reward: -200\n",
      ".................\n",
      "Reward: 5\n",
      ".................\n",
      "Reward: 17\n",
      ".................\n",
      "Reward: 16\n",
      ".................\n",
      "Reward: 17\n",
      ".................\n",
      "Reward: 17\n",
      ".................\n",
      "Reward: 15\n",
      ".................\n",
      "Reward: -304\n",
      ".................\n",
      "Reward: 16\n",
      ".................\n",
      "Reward: 14\n",
      ".................\n",
      "Reward: 19\n",
      ".................\n",
      "Reward: -1\n",
      ".................\n",
      "Reward: 24\n",
      ".................\n",
      "Reward: 16\n",
      ".................\n",
      "Reward: -12\n",
      ".................\n",
      "Reward: 13\n",
      ".................\n",
      "Reward: -29\n",
      ".................\n",
      "Reward: 23\n",
      ".................\n",
      "Reward: 12\n",
      ".................\n",
      "Reward: -35\n"
     ]
    }
   ],
   "source": [
    "# Load Q Table\n",
    "file_name = \"qtable-1658641253.pickle\"\n",
    "with open(file_name, \"rb\") as f:\n",
    "    q_table = pickle.load(f)\n",
    "\n",
    "\n",
    "game_env = GameEnv()\n",
    "game_loop = True\n",
    "run_count = 0\n",
    "\n",
    "while game_loop:\n",
    "    run_count+=1\n",
    "    game_env.reset()\n",
    "    print(\".................\")\n",
    "\n",
    "    episode_reward = 0\n",
    "    for i in range(200):\n",
    "        obs = game_env.observation()\n",
    "        \n",
    "        action = np.argmax(q_table[obs])\n",
    "\n",
    "        #action = np.random.randint(0, 4)\n",
    "        # Take the action!\n",
    "        new_obs, reward, done, _ = game_env.step(action)\n",
    "            \n",
    "        max_future_q = np.max(q_table[new_obs])\n",
    "        current_q = q_table[obs][action]\n",
    "\n",
    "        if reward == FOOD_REWARD:\n",
    "            new_q = FOOD_REWARD\n",
    "        else:\n",
    "            new_q = (1 - LEARNING_RATE) * current_q + LEARNING_RATE * (reward + DISCOUNT * max_future_q)\n",
    "        q_table[obs][action] = new_q\n",
    "        \n",
    "        episode_reward += reward\n",
    "        \n",
    "        # DISPLAY\n",
    "        game_env.render()\n",
    "        \n",
    "        if cv2.waitKey(30) == ord('q'):\n",
    "            game_loop = False\n",
    "            break\n",
    "        \n",
    "        if done:\n",
    "            break\n",
    "        \n",
    "    print(f\"Reward: {episode_reward}\")\n",
    "    \n",
    "    if run_count==200:\n",
    "        break\n",
    "        \n",
    "game_env.close()"
   ]
  },
  {
   "cell_type": "markdown",
   "id": "6192ba21-9df2-4bb9-b1e6-ad1a54828320",
   "metadata": {},
   "source": [
    "### Display QTable"
   ]
  },
  {
   "cell_type": "code",
   "execution_count": 17,
   "id": "7f438656-f3d4-4e31-9f03-8ee75c206753",
   "metadata": {},
   "outputs": [
    {
     "name": "stdout",
     "output_type": "stream",
     "text": [
      "[-3.0126688703960443, -4.189355937645875, -2.6414336095875592, -2.675692648702852]\n",
      "[-3.0126688703960443, -4.189355937645875, -2.6414336095875592, -2.675692648702852]\n",
      "[-4.250471441412581, -4.0049823845166985, 12.057566818011573, -4.754519219322938]\n",
      "[-4.200368615743132, -4.591515517467103, -2.42733559224443, 12.473811553424213]\n",
      "[13.37227158218474, -2.0770608433014215, -3.0763805004859135, -2.48713255230753]\n",
      "[-0.6671249113502808, -2.3386765945874015, -3.8520506673461803, 13.796955778020292]\n",
      "[-0.7463457541802843, 15.790405374581276, -1.937986459531404, -2.7259428896603985]\n",
      "[9.626190422965172, -2.9607840860427803, -3.2267409281413966, -0.5901870417494584]\n",
      "[5.64879086430779, -4.44961605687093, -4.174655955490878, -4.994018275605799]\n",
      "[6.363582194751942, -2.237282498816321, -2.846705131095068, -3.305742960463993]\n",
      "[-4.735887866076595, -3.97025924576763, -4.508694051241826, 17.079045896542116]\n",
      "[-11.474634060830628, -28.00806615406362, -11.486296750897985, -40.02163377251036]\n",
      "[-3.389807301966071, -3.388019166159242, -3.4106541526121097, 22.161932768957794]\n",
      "[-2.87227199174395, -2.879463018796337, -25.985171708394294, -2.90082758469452]\n",
      "[-3.315442404393907, -207.30698262428768, -3.2686489913751986, -3.3427669219748606]\n",
      "[-3.5126818773329833, -3.465898911647647, -3.5317976142270764, 25]\n",
      "[-2.756509944276785, -2.7389360587435205, -2.725260570307901, 5.109393405501788]\n",
      "[-3.4283221038019462, -3.4365764088305473, -3.38325392320617, 9.368940702254656]\n",
      "[-3.8511901717401273, -3.5651484273792295, -2.9944470991070125, 25]\n",
      "[-4.494640911258992, 9.303654225626126, -3.183199438095375, -3.2814187300877395]\n",
      "[-3.2916886620483923, -25.72732957040523, -3.275387820674401, -52.5855422270111]\n",
      "[-11.485801940418758, -11.49099848713329, -11.463604187333328, -11.501049966941382]\n",
      "[-1.9792292291319662, 22.749999943053307, -2.2714363630983385, -1.3532262556134076]\n",
      "[0.6710495391128976, -79.17534799761509, -0.5400820939686133, 22.24228437635863]\n",
      "[-3.046973982154814, 22.749427164747143, -2.1077415240696777, -1.222178281416817]\n",
      "[-0.9085381862599572, 22.690751857012454, -2.4331123570205033, -3.3883162440913215]\n",
      "[-1.162153962344445, 22.718799985337828, -4.1831321560280035, -1.0728646989788357]\n",
      "[-4.059045833938153, 22.749054708730913, -3.140516980396228, -4.242319383536076]\n",
      "[-2.7749157567433427, -2.091580188932707, -3.9500779194671227, -0.8763608135487688]\n",
      "[-3.545632204896991, 5.165950531269795, -3.5394323878799194, -29.59560557378224]\n",
      "[-4.2821427976145205, -3.1993921217222825, -3.1605368603443313, 8.291260734842652]\n",
      "[-11.503370323070673, -27.220595074886543, -35.79012228491311, -11.513685791163114]\n",
      "[-3.4494833874282076, -238.721559119426, -3.4780838848441182, -2.187258218406357]\n",
      "[-3.10562189691959, -3.0580801386378997, -3.0901384837049735, -2.556731667891979]\n",
      "[-3.34850934534847, -3.4112226190302763, -3.346355383798867, -3.3720379062451893]\n",
      "[-3.2058668862064748, -3.6123219481950315, -3.6475549244056342, -3.6238776639819217]\n",
      "[-3.3956033967695434, -3.479298848569686, -3.3410310355542374, -3.181179886518408]\n",
      "[-2.6847201465277175, -4.153183862426143, 8.74482847255183, -2.55995668037795]\n",
      "[1.2475178088760832, 25, -2.733721216733365, -0.9289402623524323]\n",
      "[-2.6155506845703242, 25, -1.7865590850739819, -2.968152959868572]\n",
      "[-2.188418231916804, -3.422022562092853, -2.1924021947770536, 10.240785718759245]\n",
      "[-11.55673787201879, -124.85216384903208, -11.527847984191043, -11.529048395063962]\n",
      "[-2.0680230216230817, 25, -1.2875912940015817, 1.102114827695246]\n",
      "[-3.792064178725012, 25, 1.5249026872346463, -0.5434934851434412]\n",
      "[-0.24309471485189715, 25, -3.064086539793925, -2.8623305265869696]\n",
      "[-2.8130513675308126, 25, -1.4639494804591866, 2.6020600674692824]\n",
      "[-0.480976380035697, -3.3971104008871897, -3.1898807250169137, -3.8574429007330053]\n",
      "[-3.240649722009147, 7.834765090434697, -3.164675654428001, -3.1685957069329844]\n",
      "[-2.8610419932159012, -3.945744763902999, -2.794935157505404, -1.0644581960957258]\n",
      "[-3.045965703715706, 6.318863953350668, -3.163973225075505, -3.0216162348058138]\n",
      "[-2.9982415805178584, -82.37244351566294, -3.296299230708285, -3.3187975133969703]\n",
      "[-11.434344539411875, -11.425065261722494, -11.458613238321334, -11.450149571490766]\n",
      "[-2.9248654278860733, -2.8497901629627957, -2.800950523953614, -2.5675238644232166]\n",
      "[-2.7236753148390216, -2.7186011329730797, -2.697792279966719, -2.6957602473212887]\n",
      "[-3.1516859797226218, -3.1615116352589814, -3.2458446822533777, -3.213347472351778]\n",
      "[-0.7519605610323801, -1.5140570690045574, 7.87135458322847, -4.91158642722581]\n",
      "[-0.8237324677967106, 22.749999999799623, 1.866798408398449, -4.026645879036621]\n",
      "[-3.514253069327357, -3.537941136409874, 22.418126555774283, -3.5192149533343366]\n",
      "[-3.4461001531393602, -54.9233202920789, -25.111164340173143, -1.1032986907603415]\n",
      "[-2.445371180755677, -124.28503240374542, -4.53336195958433, -4.1818429357427656]\n",
      "[-2.435989439609909, -2.8054471604716165, -3.5158550953032988, 3.780962472141894]\n",
      "[-11.547525562474835, -11.524676095490863, -11.526753466187794, -11.561705834286382]\n",
      "[-2.0366323118363865, 22.740243721401157, -3.2393987171840966, -4.172866317679568]\n",
      "[-2.3475232733432057, -3.3135055559048694, -2.39801431617471, -2.4730548410563524]\n",
      "[-2.6208904120271104, -4.375222773214106, -3.5775089976188905, -1.3961369596717028]\n",
      "[-3.8782426072858556, 0.007390835945579544, -3.8786840616261733, -34.382525486122816]\n",
      "[-3.6453592295055204, -4.03522820214618, 1.1690150107548551, -4.8687697410518505]\n",
      "[-3.2258277817017063, 1.1870386379396893, -30.32205456126317, -3.204154373579718]\n",
      "[-4.198071724240089, -106.95309072341061, -4.054463464785244, -2.2928937723676057]\n",
      "[-3.4785297335894785, -3.477411450903541, -0.6100770060389853, -3.5311021227328405]\n",
      "[-3.3650539168438494, -3.350658172264255, -3.4122968666975164, -3.3475547956597227]\n",
      "[-11.52710142387414, -11.514613222312148, -11.49378382015964, -11.499227364600756]\n",
      "[-4.196570865952193, -3.6615061043358055, -3.612673435307193, -4.89490812921002]\n",
      "[-2.124220025126599, -3.9172840561503177, -4.610074135665812, 0.006183730787807318]\n",
      "[-1.8754767225196207, 19.12418969332687, -2.266269321437455, -4.310686203029064]\n",
      "[-0.49665419186816157, 22.7499996606749, -1.4666233367695327, -3.2496812307091414]\n",
      "[-2.182891417643705, 11.781970430606934, -3.3178349567836074, -2.2407950516478103]\n",
      "[-2.383797151964859, -30.465591583812888, 12.649858427649079, -3.6332639325589655]\n",
      "[-2.9776041131501083, 22.749999892313394, -2.4662147221229898, -1.8767463788667706]\n",
      "[-4.03617743866189, 22.74999988485332, -0.22739050287203066, -1.7844215821918394]\n",
      "[-2.835709303307823, 1.1769847256050259, -3.0271122648394595, -3.856326938084534]\n",
      "[-11.467215995221599, -11.472792391647213, -11.460364861851344, -11.472241132776741]\n"
     ]
    }
   ],
   "source": [
    "file_name = \"models/qtable-1658641253.pickle\"\n",
    "with open(file_name, \"rb\") as f:\n",
    "    q_table = pickle.load(f)\n",
    "\n",
    "print(q_table[((0,0),(0,0))])    \n",
    "RANGE = 3\n",
    "for x1 in range(RANGE):\n",
    "    for y1 in range(RANGE):\n",
    "        for x2 in range(RANGE):\n",
    "            for y2 in range(RANGE):\n",
    "                print(q_table[((x1,y1),(x2,y2))])"
   ]
  },
  {
   "cell_type": "code",
   "execution_count": 15,
   "id": "4089294c-4f00-4796-b728-108748113b61",
   "metadata": {
    "collapsed": true,
    "jupyter": {
     "outputs_hidden": true
    },
    "tags": []
   },
   "outputs": [
    {
     "name": "stdout",
     "output_type": "stream",
     "text": [
      "(0,0)(0,0):  00\n",
      "(0,0)(0,1):  0-1\n",
      "(0,0)(0,2):  0-2\n",
      "(0,0)(1,0):  -10\n",
      "(0,0)(1,1):  -1-1\n",
      "(0,0)(1,2):  -1-2\n",
      "(0,0)(2,0):  -20\n",
      "(0,0)(2,1):  -2-1\n",
      "(0,0)(2,2):  -2-2\n",
      "(0,1)(0,0):  01\n",
      "(0,1)(0,1):  00\n",
      "(0,1)(0,2):  0-1\n",
      "(0,1)(1,0):  -11\n",
      "(0,1)(1,1):  -10\n",
      "(0,1)(1,2):  -1-1\n",
      "(0,1)(2,0):  -21\n",
      "(0,1)(2,1):  -20\n",
      "(0,1)(2,2):  -2-1\n",
      "(0,2)(0,0):  02\n",
      "(0,2)(0,1):  01\n",
      "(0,2)(0,2):  00\n",
      "(0,2)(1,0):  -12\n",
      "(0,2)(1,1):  -11\n",
      "(0,2)(1,2):  -10\n",
      "(0,2)(2,0):  -22\n",
      "(0,2)(2,1):  -21\n",
      "(0,2)(2,2):  -20\n",
      "(1,0)(0,0):  10\n",
      "(1,0)(0,1):  1-1\n",
      "(1,0)(0,2):  1-2\n",
      "(1,0)(1,0):  00\n",
      "(1,0)(1,1):  0-1\n",
      "(1,0)(1,2):  0-2\n",
      "(1,0)(2,0):  -10\n",
      "(1,0)(2,1):  -1-1\n",
      "(1,0)(2,2):  -1-2\n",
      "(1,1)(0,0):  11\n",
      "(1,1)(0,1):  10\n",
      "(1,1)(0,2):  1-1\n",
      "(1,1)(1,0):  01\n",
      "(1,1)(1,1):  00\n",
      "(1,1)(1,2):  0-1\n",
      "(1,1)(2,0):  -11\n",
      "(1,1)(2,1):  -10\n",
      "(1,1)(2,2):  -1-1\n",
      "(1,2)(0,0):  12\n",
      "(1,2)(0,1):  11\n",
      "(1,2)(0,2):  10\n",
      "(1,2)(1,0):  02\n",
      "(1,2)(1,1):  01\n",
      "(1,2)(1,2):  00\n",
      "(1,2)(2,0):  -12\n",
      "(1,2)(2,1):  -11\n",
      "(1,2)(2,2):  -10\n",
      "(2,0)(0,0):  20\n",
      "(2,0)(0,1):  2-1\n",
      "(2,0)(0,2):  2-2\n",
      "(2,0)(1,0):  10\n",
      "(2,0)(1,1):  1-1\n",
      "(2,0)(1,2):  1-2\n",
      "(2,0)(2,0):  00\n",
      "(2,0)(2,1):  0-1\n",
      "(2,0)(2,2):  0-2\n",
      "(2,1)(0,0):  21\n",
      "(2,1)(0,1):  20\n",
      "(2,1)(0,2):  2-1\n",
      "(2,1)(1,0):  11\n",
      "(2,1)(1,1):  10\n",
      "(2,1)(1,2):  1-1\n",
      "(2,1)(2,0):  01\n",
      "(2,1)(2,1):  00\n",
      "(2,1)(2,2):  0-1\n",
      "(2,2)(0,0):  22\n",
      "(2,2)(0,1):  21\n",
      "(2,2)(0,2):  20\n",
      "(2,2)(1,0):  12\n",
      "(2,2)(1,1):  11\n",
      "(2,2)(1,2):  10\n",
      "(2,2)(2,0):  02\n",
      "(2,2)(2,1):  01\n",
      "(2,2)(2,2):  00\n"
     ]
    }
   ],
   "source": [
    "RANGE = 3\n",
    "array = []\n",
    "for x1 in range(RANGE):\n",
    "    for y1 in range(RANGE):\n",
    "        for x2 in range(RANGE):\n",
    "            for y2 in range(RANGE):\n",
    "                x = str(x1-x2)\n",
    "                y = str(y1-y2)\n",
    "                array.append(x+y)\n",
    "                print(f\"({x1},{y1})({x2},{y2}):  {x+y}\")\n",
    "#print(array)\n",
    "                "
   ]
  },
  {
   "cell_type": "code",
   "execution_count": 14,
   "id": "a27986a0-9d73-4b5d-99b0-06f9af0f36ca",
   "metadata": {},
   "outputs": [
    {
     "name": "stdout",
     "output_type": "stream",
     "text": [
      "['00', '0-1', '0-2', '-10', '-1-1', '-1-2', '-20', '-2-1', '01', '-11', '-21', '02', '-12', '10', '1-1', '1-2', '11', '12', '20', '2-1', '21']\n"
     ]
    }
   ],
   "source": [
    "import collections\n",
    "print([item for item, count in collections.Counter(array).items() if count > 1])"
   ]
  }
 ],
 "metadata": {
  "kernelspec": {
   "display_name": "Python 3 (ipykernel)",
   "language": "python",
   "name": "python3"
  },
  "language_info": {
   "codemirror_mode": {
    "name": "ipython",
    "version": 3
   },
   "file_extension": ".py",
   "mimetype": "text/x-python",
   "name": "python",
   "nbconvert_exporter": "python",
   "pygments_lexer": "ipython3",
   "version": "3.8.10"
  }
 },
 "nbformat": 4,
 "nbformat_minor": 5
}
