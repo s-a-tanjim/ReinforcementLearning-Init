{
 "cells": [
  {
   "cell_type": "markdown",
   "id": "da5bb924-eed4-4598-8ad6-e309ac780ad3",
   "metadata": {},
   "source": [
    "[Source](https://github.com/philtabor/Youtube-Code-Repository/blob/master/ReinforcementLearning/Fundamentals/sarsa.py)\n",
    "\n",
    "### Action Space\n",
    "    The action is a `ndarray` with shape `(1,)` which can take values `{0, 1}` indicating the direction\n",
    "     of the fixed force the cart is pushed with.\n",
    "    | Num | Action                 |\n",
    "    |-----|------------------------|\n",
    "    | 0   | Push cart to the left  |\n",
    "    | 1   | Push cart to the right |\n",
    "    **Note**: The velocity that is reduced or increased by the applied force is not fixed and it depends on the angle\n",
    "     the pole is pointing. The center of gravity of the pole varies the amount of energy needed to move the cart underneath it\n",
    "\n",
    "### Observation Space\n",
    "    The observation is a `ndarray` with shape `(4,)` with the values corresponding to the following positions and velocities:\n",
    "    | Num | Observation           | Min                 | Max               |\n",
    "    |-----|-----------------------|---------------------|-------------------|\n",
    "    | 0   | Cart Position         | -4.8                | 4.8               |\n",
    "    | 1   | Cart Velocity         | -Inf                | Inf               |\n",
    "    | 2   | Pole Angle            | ~ -0.418 rad (-24°) | ~ 0.418 rad (24°) |\n",
    "    | 3   | Pole Angular Velocity | -Inf                | Inf               |\n"
   ]
  },
  {
   "cell_type": "code",
   "execution_count": 1,
   "id": "edb4159f-1518-48a1-8586-2c78fd8a41a8",
   "metadata": {},
   "outputs": [],
   "source": [
    "import numpy as np\n",
    "import matplotlib.pyplot as plt\n",
    "import gym"
   ]
  },
  {
   "cell_type": "code",
   "execution_count": 6,
   "id": "199df95d-c57c-46f8-9a32-7fb1aa6d34e8",
   "metadata": {},
   "outputs": [],
   "source": [
    "DISCRETE_SIZE = 10\n",
    "# model hyperparameters\n",
    "ALPHA = 0.1\n",
    "GAMMA = 0.9    \n",
    "EPS = 1.0\n",
    "\n",
    "np.random.seed(1)"
   ]
  },
  {
   "cell_type": "code",
   "execution_count": 4,
   "id": "01f4b978-18b7-4a08-a161-279d35be7908",
   "metadata": {},
   "outputs": [],
   "source": [
    "\n",
    "\n",
    "def maxAction(Q, state):    \n",
    "    values = np.array([Q[state,a] for a in range(2)])\n",
    "    action = np.argmax(values)\n",
    "    return action\n",
    "\n",
    "#discretize the spaces\n",
    "cartPosSpace = np.linspace(-2.4, 2.4, DISCRETE_SIZE)\n",
    "cartVelSpace = np.linspace(-4, 4, DISCRETE_SIZE)\n",
    "poleThetaSpace = np.linspace(-0.20943951, 0.20943951, DISCRETE_SIZE)\n",
    "poleThetaVelSpace = np.linspace(-4, 4, DISCRETE_SIZE)\n",
    "\n",
    "\n",
    "def getState(observation):\n",
    "    cartX, cartXdot, cartTheta, cartThetadot = observation\n",
    "    cartX = int(np.digitize(cartX, cartPosSpace))\n",
    "    cartXdot = int(np.digitize(cartXdot, cartVelSpace))\n",
    "    cartTheta = int(np.digitize(cartTheta, poleThetaSpace))\n",
    "    cartThetadot = int(np.digitize(cartThetadot, poleThetaVelSpace))\n",
    "\n",
    "    return (cartX, cartXdot, cartTheta, cartThetadot)"
   ]
  },
  {
   "cell_type": "code",
   "execution_count": 5,
   "id": "9fbd192d-c6fd-436a-b280-e32af4e1f244",
   "metadata": {},
   "outputs": [
    {
     "data": {
      "text/plain": [
       "10"
      ]
     },
     "execution_count": 5,
     "metadata": {},
     "output_type": "execute_result"
    }
   ],
   "source": [
    "len(cartPosSpace)"
   ]
  },
  {
   "cell_type": "code",
   "execution_count": 7,
   "id": "e79f2927-7b5c-4418-b736-b0a899edc1d7",
   "metadata": {},
   "outputs": [],
   "source": [
    "#construct state space\n",
    "states = []\n",
    "for i in range(len(cartPosSpace)+1):\n",
    "    for j in range(len(cartVelSpace)+1):\n",
    "        for k in range(len(poleThetaSpace)+1):\n",
    "            for l in range(len(poleThetaVelSpace)+1):\n",
    "                states.append((i,j,k,l))\n",
    "\n",
    "Q = {}\n",
    "for s in states:\n",
    "    for a in range(2): # 2=> Action Space\n",
    "        Q[s, a] = 0"
   ]
  },
  {
   "cell_type": "code",
   "execution_count": 24,
   "id": "c4759b21-f1be-4166-9aca-d141c62c0a35",
   "metadata": {},
   "outputs": [
    {
     "name": "stdout",
     "output_type": "stream",
     "text": [
      "14641\n",
      "29282\n",
      "10\n"
     ]
    }
   ],
   "source": [
    "print(len(states))\n",
    "print(len(Q))\n",
    "print(len(cartPosSpace))"
   ]
  },
  {
   "cell_type": "code",
   "execution_count": 25,
   "id": "754956ac-d96a-472f-a0e0-1e46b7289f8b",
   "metadata": {},
   "outputs": [
    {
     "name": "stdout",
     "output_type": "stream",
     "text": [
      "starting game 0\n",
      "starting game 5000\n",
      "starting game 10000\n",
      "starting game 15000\n",
      "starting game 20000\n",
      "starting game 25000\n",
      "starting game 30000\n",
      "starting game 35000\n",
      "starting game 40000\n",
      "starting game 45000\n"
     ]
    },
    {
     "data": {
      "image/png": "[encoded data removed]",
      "text/plain": [
       "<Figure size 432x288 with 1 Axes>"
      ]
     },
     "metadata": {
      "needs_background": "light"
     },
     "output_type": "display_data"
    }
   ],
   "source": [
    "env = gym.make('CartPole-v0')\n",
    "\n",
    "numGames = 50000\n",
    "totalRewards = np.zeros(numGames)\n",
    "for i in range(numGames):\n",
    "    if i % 5000 == 0:\n",
    "        print('starting game', i)\n",
    "    # cart x position, cart velocity, pole theta, pole velocity\n",
    "    observation = env.reset()        \n",
    "    s = getState(observation)\n",
    "    rand = np.random.random()\n",
    "    a = maxAction(Q, s) if rand < (1-EPS) else env.action_space.sample()\n",
    "    done = False\n",
    "    epRewards = 0\n",
    "    while not done:\n",
    "        observation_, reward, done, info = env.step(a)   \n",
    "        s_ = getState(observation_)\n",
    "        rand = np.random.random()\n",
    "        a_ = maxAction(Q, s_) if rand < (1-EPS) else env.action_space.sample()\n",
    "        epRewards += reward\n",
    "        Q[s,a] = Q[s,a] + ALPHA*(reward + GAMMA*Q[s_,a_] - Q[s,a])\n",
    "        s, a = s_, a_            \n",
    "    EPS -= 2/(numGames) if EPS > 0 else 0\n",
    "    totalRewards[i] = epRewards\n",
    "\n",
    "plt.plot(totalRewards, 'b--')\n",
    "plt.show()    "
   ]
  },
  {
   "cell_type": "markdown",
   "id": "7ea04d21-f2a0-4694-8511-47924a946c8d",
   "metadata": {},
   "source": [
    "## Testing the model"
   ]
  },
  {
   "cell_type": "code",
   "execution_count": 26,
   "id": "8a844d49-c504-4f87-b27f-6b9efe893fdf",
   "metadata": {
    "collapsed": true,
    "jupyter": {
     "outputs_hidden": true
    },
    "tags": []
   },
   "outputs": [
    {
     "name": "stdout",
     "output_type": "stream",
     "text": [
      "Episode Reward:  200.0\n",
      "Episode Reward:  200.0\n",
      "Episode Reward:  200.0\n",
      "Episode Reward:  200.0\n",
      "Episode Reward:  200.0\n",
      "Episode Reward:  200.0\n",
      "Episode Reward:  200.0\n",
      "Episode Reward:  200.0\n",
      "Episode Reward:  200.0\n",
      "Episode Reward:  200.0\n",
      "Episode Reward:  200.0\n",
      "Episode Reward:  200.0\n",
      "Episode Reward:  200.0\n",
      "Episode Reward:  200.0\n",
      "Episode Reward:  200.0\n",
      "Episode Reward:  200.0\n",
      "Episode Reward:  200.0\n",
      "Episode Reward:  200.0\n",
      "Episode Reward:  200.0\n",
      "Episode Reward:  200.0\n",
      "Episode Reward:  200.0\n",
      "Episode Reward:  200.0\n",
      "Episode Reward:  200.0\n",
      "Episode Reward:  200.0\n",
      "Episode Reward:  200.0\n",
      "Episode Reward:  200.0\n",
      "Episode Reward:  200.0\n",
      "Episode Reward:  200.0\n",
      "Episode Reward:  200.0\n",
      "Episode Reward:  200.0\n",
      "Episode Reward:  200.0\n",
      "Episode Reward:  200.0\n",
      "Episode Reward:  200.0\n",
      "Episode Reward:  193.0\n",
      "Episode Reward:  200.0\n",
      "Episode Reward:  200.0\n",
      "Episode Reward:  200.0\n",
      "Episode Reward:  200.0\n",
      "Episode Reward:  200.0\n",
      "Episode Reward:  200.0\n",
      "Episode Reward:  200.0\n",
      "Episode Reward:  200.0\n",
      "Episode Reward:  200.0\n",
      "Episode Reward:  200.0\n",
      "Episode Reward:  200.0\n",
      "Episode Reward:  200.0\n",
      "Episode Reward:  200.0\n",
      "Episode Reward:  200.0\n",
      "Episode Reward:  200.0\n",
      "Episode Reward:  200.0\n",
      "Episode Reward:  200.0\n",
      "Episode Reward:  200.0\n",
      "Episode Reward:  200.0\n",
      "Episode Reward:  200.0\n",
      "Episode Reward:  200.0\n",
      "Episode Reward:  200.0\n",
      "Episode Reward:  200.0\n",
      "Episode Reward:  200.0\n",
      "Episode Reward:  200.0\n",
      "Episode Reward:  200.0\n",
      "Episode Reward:  200.0\n",
      "Episode Reward:  200.0\n",
      "Episode Reward:  200.0\n",
      "Episode Reward:  200.0\n",
      "Episode Reward:  200.0\n",
      "Episode Reward:  200.0\n",
      "Episode Reward:  200.0\n",
      "Episode Reward:  200.0\n",
      "Episode Reward:  200.0\n",
      "Episode Reward:  200.0\n",
      "Episode Reward:  200.0\n",
      "Episode Reward:  200.0\n",
      "Episode Reward:  200.0\n",
      "Episode Reward:  200.0\n",
      "Episode Reward:  200.0\n",
      "Episode Reward:  200.0\n",
      "Episode Reward:  200.0\n",
      "Episode Reward:  200.0\n",
      "Episode Reward:  200.0\n",
      "Episode Reward:  200.0\n",
      "Episode Reward:  200.0\n",
      "Episode Reward:  200.0\n",
      "Episode Reward:  200.0\n",
      "Episode Reward:  200.0\n",
      "Episode Reward:  200.0\n",
      "Episode Reward:  200.0\n",
      "Episode Reward:  200.0\n",
      "Episode Reward:  200.0\n",
      "Episode Reward:  200.0\n",
      "Episode Reward:  200.0\n",
      "Episode Reward:  186.0\n",
      "Episode Reward:  200.0\n",
      "Episode Reward:  200.0\n",
      "Episode Reward:  200.0\n",
      "Episode Reward:  200.0\n",
      "Episode Reward:  200.0\n",
      "Episode Reward:  200.0\n",
      "Episode Reward:  200.0\n",
      "Episode Reward:  200.0\n",
      "Episode Reward:  200.0\n"
     ]
    }
   ],
   "source": [
    "gamePlay = 100\n",
    "for i in range(gamePlay):\n",
    "    observation = env.reset()        \n",
    "    s = getState(observation)\n",
    "    a = maxAction(Q, s)\n",
    "    done = False\n",
    "    epRewards = 0\n",
    "    while not done:\n",
    "        observation_, reward, done, info = env.step(a)   \n",
    "        s_ = getState(observation_)\n",
    "        a_ = maxAction(Q, s_)\n",
    "        epRewards += reward\n",
    "        # Q[s,a] = Q[s,a] + ALPHA*(reward + GAMMA*Q[s_,a_] - Q[s,a])\n",
    "        s, a = s_, a_ \n",
    "        env.render()\n",
    "    print(\"Episode Reward: \",epRewards)"
   ]
  }
 ],
 "metadata": {
  "kernelspec": {
   "display_name": "Python 3 (ipykernel)",
   "language": "python",
   "name": "python3"
  },
  "language_info": {
   "codemirror_mode": {
    "name": "ipython",
    "version": 3
   },
   "file_extension": ".py",
   "mimetype": "text/x-python",
   "name": "python",
   "nbconvert_exporter": "python",
   "pygments_lexer": "ipython3",
   "version": "3.8.10"
  }
 },
 "nbformat": 4,
 "nbformat_minor": 5
}
